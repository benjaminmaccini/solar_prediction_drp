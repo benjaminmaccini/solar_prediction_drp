{
 "cells": [
  {
   "cell_type": "code",
   "execution_count": 1,
   "metadata": {},
   "outputs": [],
   "source": [
    "import pandas as pd "
   ]
  },
  {
   "cell_type": "markdown",
   "metadata": {},
   "source": [
    "# Data cleaning"
   ]
  },
  {
   "cell_type": "markdown",
   "metadata": {},
   "source": [
    "## Read in data"
   ]
  },
  {
   "cell_type": "code",
   "execution_count": 2,
   "metadata": {
    "scrolled": true
   },
   "outputs": [
    {
     "name": "stderr",
     "output_type": "stream",
     "text": [
      "/home/yulu/.local/lib/python3.5/site-packages/IPython/core/interactiveshell.py:3018: DtypeWarning: Columns (62,66) have mixed types. Specify dtype option on import or set low_memory=False.\n",
      "  interactivity=interactivity, compiler=compiler, result=result)\n"
     ]
    }
   ],
   "source": [
    "df0 = pd.read_csv('./tmy3.csv')"
   ]
  },
  {
   "cell_type": "code",
   "execution_count": 4,
   "metadata": {},
   "outputs": [
    {
     "data": {
      "text/html": [
       "<div>\n",
       "<style scoped>\n",
       "    .dataframe tbody tr th:only-of-type {\n",
       "        vertical-align: middle;\n",
       "    }\n",
       "\n",
       "    .dataframe tbody tr th {\n",
       "        vertical-align: top;\n",
       "    }\n",
       "\n",
       "    .dataframe thead th {\n",
       "        text-align: right;\n",
       "    }\n",
       "</style>\n",
       "<table border=\"1\" class=\"dataframe\">\n",
       "  <thead>\n",
       "    <tr style=\"text-align: right;\">\n",
       "      <th></th>\n",
       "      <th>Date (MM/DD/YYYY)</th>\n",
       "      <th>Time (HH:MM)</th>\n",
       "      <th>ETR (W/m^2)</th>\n",
       "      <th>ETRN (W/m^2)</th>\n",
       "      <th>GHI (W/m^2)</th>\n",
       "      <th>GHI source</th>\n",
       "      <th>GHI uncert (%)</th>\n",
       "      <th>DNI (W/m^2)</th>\n",
       "      <th>DNI source</th>\n",
       "      <th>DNI uncert (%)</th>\n",
       "      <th>...</th>\n",
       "      <th>AOD source</th>\n",
       "      <th>AOD uncert (code)</th>\n",
       "      <th>Alb (unitless)</th>\n",
       "      <th>Alb source</th>\n",
       "      <th>Alb uncert (code)</th>\n",
       "      <th>Lprecip depth (mm)</th>\n",
       "      <th>Lprecip quantity (hr)</th>\n",
       "      <th>Lprecip source</th>\n",
       "      <th>Lprecip uncert (code)</th>\n",
       "      <th>station_number</th>\n",
       "    </tr>\n",
       "  </thead>\n",
       "  <tbody>\n",
       "    <tr>\n",
       "      <th>0</th>\n",
       "      <td>01/01/1998</td>\n",
       "      <td>01:00</td>\n",
       "      <td>0</td>\n",
       "      <td>0</td>\n",
       "      <td>0.0</td>\n",
       "      <td>2</td>\n",
       "      <td>0.0</td>\n",
       "      <td>0.0</td>\n",
       "      <td>2</td>\n",
       "      <td>0.0</td>\n",
       "      <td>...</td>\n",
       "      <td>F</td>\n",
       "      <td>8</td>\n",
       "      <td>0.19</td>\n",
       "      <td>F</td>\n",
       "      <td>8</td>\n",
       "      <td>NaN</td>\n",
       "      <td>NaN</td>\n",
       "      <td>NaN</td>\n",
       "      <td>0</td>\n",
       "      <td>690150</td>\n",
       "    </tr>\n",
       "    <tr>\n",
       "      <th>1</th>\n",
       "      <td>01/01/1998</td>\n",
       "      <td>02:00</td>\n",
       "      <td>0</td>\n",
       "      <td>0</td>\n",
       "      <td>0.0</td>\n",
       "      <td>2</td>\n",
       "      <td>0.0</td>\n",
       "      <td>0.0</td>\n",
       "      <td>2</td>\n",
       "      <td>0.0</td>\n",
       "      <td>...</td>\n",
       "      <td>F</td>\n",
       "      <td>8</td>\n",
       "      <td>0.19</td>\n",
       "      <td>F</td>\n",
       "      <td>8</td>\n",
       "      <td>NaN</td>\n",
       "      <td>NaN</td>\n",
       "      <td>NaN</td>\n",
       "      <td>0</td>\n",
       "      <td>690150</td>\n",
       "    </tr>\n",
       "    <tr>\n",
       "      <th>2</th>\n",
       "      <td>01/01/1998</td>\n",
       "      <td>03:00</td>\n",
       "      <td>0</td>\n",
       "      <td>0</td>\n",
       "      <td>0.0</td>\n",
       "      <td>2</td>\n",
       "      <td>0.0</td>\n",
       "      <td>0.0</td>\n",
       "      <td>2</td>\n",
       "      <td>0.0</td>\n",
       "      <td>...</td>\n",
       "      <td>F</td>\n",
       "      <td>8</td>\n",
       "      <td>0.19</td>\n",
       "      <td>F</td>\n",
       "      <td>8</td>\n",
       "      <td>NaN</td>\n",
       "      <td>NaN</td>\n",
       "      <td>NaN</td>\n",
       "      <td>0</td>\n",
       "      <td>690150</td>\n",
       "    </tr>\n",
       "    <tr>\n",
       "      <th>3</th>\n",
       "      <td>01/01/1998</td>\n",
       "      <td>04:00</td>\n",
       "      <td>0</td>\n",
       "      <td>0</td>\n",
       "      <td>0.0</td>\n",
       "      <td>2</td>\n",
       "      <td>0.0</td>\n",
       "      <td>0.0</td>\n",
       "      <td>2</td>\n",
       "      <td>0.0</td>\n",
       "      <td>...</td>\n",
       "      <td>F</td>\n",
       "      <td>8</td>\n",
       "      <td>0.19</td>\n",
       "      <td>F</td>\n",
       "      <td>8</td>\n",
       "      <td>NaN</td>\n",
       "      <td>NaN</td>\n",
       "      <td>NaN</td>\n",
       "      <td>0</td>\n",
       "      <td>690150</td>\n",
       "    </tr>\n",
       "    <tr>\n",
       "      <th>4</th>\n",
       "      <td>01/01/1998</td>\n",
       "      <td>05:00</td>\n",
       "      <td>0</td>\n",
       "      <td>0</td>\n",
       "      <td>0.0</td>\n",
       "      <td>2</td>\n",
       "      <td>0.0</td>\n",
       "      <td>0.0</td>\n",
       "      <td>2</td>\n",
       "      <td>0.0</td>\n",
       "      <td>...</td>\n",
       "      <td>F</td>\n",
       "      <td>8</td>\n",
       "      <td>0.19</td>\n",
       "      <td>F</td>\n",
       "      <td>8</td>\n",
       "      <td>NaN</td>\n",
       "      <td>NaN</td>\n",
       "      <td>NaN</td>\n",
       "      <td>0</td>\n",
       "      <td>690150</td>\n",
       "    </tr>\n",
       "  </tbody>\n",
       "</table>\n",
       "<p>5 rows × 69 columns</p>\n",
       "</div>"
      ],
      "text/plain": [
       "  Date (MM/DD/YYYY) Time (HH:MM)  ETR (W/m^2)  ETRN (W/m^2)  GHI (W/m^2)  \\\n",
       "0        01/01/1998        01:00            0             0          0.0   \n",
       "1        01/01/1998        02:00            0             0          0.0   \n",
       "2        01/01/1998        03:00            0             0          0.0   \n",
       "3        01/01/1998        04:00            0             0          0.0   \n",
       "4        01/01/1998        05:00            0             0          0.0   \n",
       "\n",
       "   GHI source  GHI uncert (%)  DNI (W/m^2)  DNI source  DNI uncert (%)  \\\n",
       "0           2             0.0          0.0           2             0.0   \n",
       "1           2             0.0          0.0           2             0.0   \n",
       "2           2             0.0          0.0           2             0.0   \n",
       "3           2             0.0          0.0           2             0.0   \n",
       "4           2             0.0          0.0           2             0.0   \n",
       "\n",
       "        ...        AOD source  AOD uncert (code)  Alb (unitless)  Alb source  \\\n",
       "0       ...                 F                  8            0.19           F   \n",
       "1       ...                 F                  8            0.19           F   \n",
       "2       ...                 F                  8            0.19           F   \n",
       "3       ...                 F                  8            0.19           F   \n",
       "4       ...                 F                  8            0.19           F   \n",
       "\n",
       "   Alb uncert (code)  Lprecip depth (mm)  Lprecip quantity (hr)  \\\n",
       "0                  8                 NaN                    NaN   \n",
       "1                  8                 NaN                    NaN   \n",
       "2                  8                 NaN                    NaN   \n",
       "3                  8                 NaN                    NaN   \n",
       "4                  8                 NaN                    NaN   \n",
       "\n",
       "   Lprecip source  Lprecip uncert (code)  station_number  \n",
       "0             NaN                      0          690150  \n",
       "1             NaN                      0          690150  \n",
       "2             NaN                      0          690150  \n",
       "3             NaN                      0          690150  \n",
       "4             NaN                      0          690150  \n",
       "\n",
       "[5 rows x 69 columns]"
      ]
     },
     "execution_count": 4,
     "metadata": {},
     "output_type": "execute_result"
    }
   ],
   "source": [
    "df0.head()"
   ]
  },
  {
   "cell_type": "markdown",
   "metadata": {},
   "source": [
    "## Convert to date averaged data"
   ]
  },
  {
   "cell_type": "code",
   "execution_count": 34,
   "metadata": {},
   "outputs": [],
   "source": [
    "dfDay = df0.groupby('Date (MM/DD/YYYY)').mean()   # group by day and take mean\n",
    "dfDay.index = pd.to_datetime(dfDay.index)    # set index as datetime dtype\n",
    "dfDay = dfDay[dfDay.columns[dfDay.dtypes != object]]  # remove object dtypes (all are source data)"
   ]
  },
  {
   "cell_type": "code",
   "execution_count": 35,
   "metadata": {},
   "outputs": [
    {
     "data": {
      "text/plain": [
       "(9062, 53)"
      ]
     },
     "execution_count": 35,
     "metadata": {},
     "output_type": "execute_result"
    }
   ],
   "source": [
    "dfDay.shape"
   ]
  },
  {
   "cell_type": "markdown",
   "metadata": {},
   "source": [
    "## Remove NA columns (2 cols)"
   ]
  },
  {
   "cell_type": "code",
   "execution_count": 36,
   "metadata": {},
   "outputs": [
    {
     "data": {
      "text/plain": [
       "ETR (W/m^2)                   0\n",
       "ETRN (W/m^2)                  0\n",
       "GHI (W/m^2)                   0\n",
       "GHI source                    0\n",
       "GHI uncert (%)                0\n",
       "DNI (W/m^2)                   0\n",
       "DNI source                    0\n",
       "DNI uncert (%)                0\n",
       "DHI (W/m^2)                   0\n",
       "DHI source                    0\n",
       "DHI uncert (%)                0\n",
       "GH illum (lx)                 0\n",
       "GH illum source               0\n",
       "Global illum uncert (%)       0\n",
       "DN illum (lx)                 0\n",
       "DN illum source               0\n",
       "DN illum uncert (%)           0\n",
       "DH illum (lx)                 0\n",
       "DH illum source               0\n",
       "DH illum uncert (%)           0\n",
       "Zenith lum (cd/m^2)           0\n",
       "Zenith lum source             0\n",
       "Zenith lum uncert (%)         0\n",
       "TotCld (tenths)               0\n",
       "TotCld uncert (code)          0\n",
       "OpqCld (tenths)               0\n",
       "OpqCld uncert (code)          0\n",
       "Dry-bulb (C)                  0\n",
       "Dry-bulb uncert (code)        0\n",
       "Dew-point (C)                 0\n",
       "Dew-point uncert (code)       0\n",
       "RHum (%)                      0\n",
       "RHum uncert (code)            0\n",
       "Pressure (mbar)               0\n",
       "Pressure uncert (code)        0\n",
       "Wdir (degrees)                0\n",
       "Wdir uncert (code)            0\n",
       "Wspd (m/s)                    0\n",
       "Wspd uncert (code)            0\n",
       "Hvis (m)                      0\n",
       "Hvis uncert (code)            0\n",
       "CeilHgt (m)                   0\n",
       "CeilHgt uncert (code)         0\n",
       "Pwat (cm)                     0\n",
       "Pwat uncert (code)            0\n",
       "AOD (unitless)                0\n",
       "AOD uncert (code)             0\n",
       "Alb (unitless)                0\n",
       "Alb uncert (code)             0\n",
       "Lprecip depth (mm)         4470\n",
       "Lprecip quantity (hr)      4470\n",
       "Lprecip uncert (code)         0\n",
       "station_number                0\n",
       "dtype: int64"
      ]
     },
     "execution_count": 36,
     "metadata": {},
     "output_type": "execute_result"
    }
   ],
   "source": [
    "dfDay.isna().sum()  # NA values "
   ]
  },
  {
   "cell_type": "code",
   "execution_count": 37,
   "metadata": {},
   "outputs": [],
   "source": [
    "dfDay = dfDay.dropna(axis = 1)"
   ]
  },
  {
   "cell_type": "code",
   "execution_count": 38,
   "metadata": {},
   "outputs": [
    {
     "data": {
      "text/plain": [
       "(9062, 51)"
      ]
     },
     "execution_count": 38,
     "metadata": {},
     "output_type": "execute_result"
    }
   ],
   "source": [
    "dfDay.shape"
   ]
  },
  {
   "cell_type": "code",
   "execution_count": 40,
   "metadata": {},
   "outputs": [],
   "source": [
    "dfDay.to_csv('./tmy3_by_date.csv')"
   ]
  },
  {
   "cell_type": "code",
   "execution_count": null,
   "metadata": {},
   "outputs": [],
   "source": []
  }
 ],
 "metadata": {
  "kernelspec": {
   "display_name": "Python 3",
   "language": "python",
   "name": "python3"
  },
  "language_info": {
   "codemirror_mode": {
    "name": "ipython",
    "version": 3
   },
   "file_extension": ".py",
   "mimetype": "text/x-python",
   "name": "python",
   "nbconvert_exporter": "python",
   "pygments_lexer": "ipython3",
   "version": "3.5.3"
  }
 },
 "nbformat": 4,
 "nbformat_minor": 2
}
