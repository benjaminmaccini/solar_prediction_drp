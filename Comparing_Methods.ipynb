{
 "cells": [
  {
   "cell_type": "markdown",
   "metadata": {},
   "source": [
    "# ML Regression Method Comparison - time series\n",
    "Datasets:\n",
    "    - https://archive.ics.uci.edu/ml/datasets/Bike+Sharing+Dataset\n",
    "    - file name : \"day.csv\" or \"hour.csv\"\n",
    "Methods:\n",
    "    - Linear Regression [Polynomial, etc...]\n",
    "    - Linear Regression with basis funtions\n",
    "    - Conditional Random Fields\n",
    "    - Neural Net\n",
    "    - LTSM\n",
    "    - KDE"
   ]
  },
  {
   "cell_type": "markdown",
   "metadata": {},
   "source": [
    "# Read Me stuff from data\n",
    "Both hour.csv and day.csv have the following fields, except hr which is not available in day.csv\n",
    "\t- instant: record index\n",
    "\t- dteday : date\n",
    "\t- season : season (1:springer, 2:summer, 3:fall, 4:winter)\n",
    "\t- yr : year (0: 2011, 1:2012)\n",
    "\t- mnth : month ( 1 to 12)\n",
    "\t- hr : hour (0 to 23)\n",
    "\t- holiday : weather day is holiday or not (extracted from http://dchr.dc.gov/page/holiday-schedule)\n",
    "\t- weekday : day of the week\n",
    "\t- workingday : if day is neither weekend nor holiday is 1, otherwise is 0.\n",
    "\t+ weathersit : \n",
    "\t\t- 1: Clear, Few clouds, Partly cloudy, Partly cloudy\n",
    "\t\t- 2: Mist + Cloudy, Mist + Broken clouds, Mist + Few clouds, Mist\n",
    "\t\t- 3: Light Snow, Light Rain + Thunderstorm + Scattered clouds, Light Rain + Scattered clouds\n",
    "\t\t- 4: Heavy Rain + Ice Pallets + Thunderstorm + Mist, Snow + Fog\n",
    "\t- temp : Normalized temperature in Celsius. The values are divided to 41 (max)\n",
    "\t- atemp: Normalized feeling temperature in Celsius. The values are divided to 50 (max)\n",
    "\t- hum: Normalized humidity. The values are divided to 100 (max)\n",
    "\t- windspeed: Normalized wind speed. The values are divided to 67 (max)\n",
    "\t- casual: count of casual users\n",
    "\t- registered: count of registered users\n",
    "\t- cnt: count of total rental bikes including both casual and registered"
   ]
  },
  {
   "cell_type": "markdown",
   "metadata": {},
   "source": [
    "Remove holiday, random forest - reduce dimensionality bsed"
   ]
  },
  {
   "cell_type": "code",
   "execution_count": 1,
   "metadata": {},
   "outputs": [],
   "source": [
    "import pandas as pd\n",
    "import numpy as np\n",
    "import sklearn as sk\n",
    "import matplotlib.pyplot as plt\n",
    "import random as rand\n",
    "import seaborn as sns"
   ]
  },
  {
   "cell_type": "code",
   "execution_count": 2,
   "metadata": {},
   "outputs": [],
   "source": [
    "%matplotlib inline"
   ]
  },
  {
   "cell_type": "code",
   "execution_count": 3,
   "metadata": {},
   "outputs": [
    {
     "name": "stdout",
     "output_type": "stream",
     "text": [
      "(17379, 17)\n",
      "   instant      dteday  season  yr  mnth  hr  holiday  weekday  workingday  \\\n",
      "0        1  2011-01-01       1   0     1   0        0        6           0   \n",
      "1        2  2011-01-01       1   0     1   1        0        6           0   \n",
      "2        3  2011-01-01       1   0     1   2        0        6           0   \n",
      "3        4  2011-01-01       1   0     1   3        0        6           0   \n",
      "4        5  2011-01-01       1   0     1   4        0        6           0   \n",
      "\n",
      "   weathersit  temp   atemp   hum  windspeed  casual  registered  cnt  \n",
      "0           1  0.24  0.2879  0.81        0.0       3          13   16  \n",
      "1           1  0.22  0.2727  0.80        0.0       8          32   40  \n",
      "2           1  0.22  0.2727  0.80        0.0       5          27   32  \n",
      "3           1  0.24  0.2879  0.75        0.0       3          10   13  \n",
      "4           1  0.24  0.2879  0.75        0.0       0           1    1  \n"
     ]
    }
   ],
   "source": [
    "# Data ingest\n",
    "df = pd.read_csv('hour.csv')\n",
    "print(df.shape)\n",
    "print(df.head(5))"
   ]
  },
  {
   "cell_type": "markdown",
   "metadata": {},
   "source": [
    "# Preprocessing/ EDA"
   ]
  },
  {
   "cell_type": "code",
   "execution_count": 8,
   "metadata": {},
   "outputs": [
    {
     "name": "stdout",
     "output_type": "stream",
     "text": [
      "<class 'pandas.core.frame.DataFrame'>\n",
      "RangeIndex: 17376 entries, 1 to 17376\n",
      "Data columns (total 17 columns):\n",
      "instant       17376 non-null int64\n",
      "dteday        17376 non-null object\n",
      "season        17376 non-null int64\n",
      "yr            17376 non-null int64\n",
      "mnth          17376 non-null int64\n",
      "hr            17376 non-null int64\n",
      "holiday       17376 non-null int64\n",
      "weekday       17376 non-null int64\n",
      "workingday    17376 non-null int64\n",
      "weathersit    17376 non-null int64\n",
      "temp          17376 non-null float64\n",
      "atemp         17376 non-null float64\n",
      "hum           17376 non-null float64\n",
      "windspeed     17376 non-null float64\n",
      "casual        17376 non-null int64\n",
      "registered    17376 non-null int64\n",
      "cnt           17376 non-null int64\n",
      "dtypes: float64(4), int64(12), object(1)\n",
      "memory usage: 2.3+ MB\n",
      "Are There Missing Data? : False\n"
     ]
    }
   ],
   "source": [
    "# Seperate indices from data from labels\n",
    "index, data, count_casual,count_registered, count = df['instant'] , df.iloc[1:-2], df['casual'], df['registered'], df['cnt']\n",
    "data.info()\n",
    "# Here we split the categorical data from the numerical\n",
    "cat_data = data[['season','yr','mnth','hr','holiday','weekday','workingday','weathersit']]\n",
    "num_data = data[['temp','atemp','hum','windspeed']]\n",
    "print(\"Are There Missing Data? :\",data.isnull().any().any())"
   ]
  },
  {
   "cell_type": "code",
   "execution_count": 10,
   "metadata": {},
   "outputs": [
    {
     "data": {
      "text/plain": [
       "<matplotlib.axes._subplots.AxesSubplot at 0x7f9f8b24c400>"
      ]
     },
     "execution_count": 10,
     "metadata": {},
     "output_type": "execute_result"
    },
    {
     "data": {
      "image/png": "[encoded data removed]",
      "text/plain": [
       "<Figure size 720x720 with 2 Axes>"
      ]
     },
     "metadata": {},
     "output_type": "display_data"
    }
   ],
   "source": [
    "# Look at numerical data regression\n",
    "corr = df.iloc[:,1:].corr()\n",
    "\n",
    "plt.figure(figsize = (10,10))\n",
    "sns.heatmap(corr, center = 0 )"
   ]
  },
  {
   "cell_type": "code",
   "execution_count": 13,
   "metadata": {},
   "outputs": [
    {
     "name": "stdout",
     "output_type": "stream",
     "text": [
      "   season  yr  mnth  hr  holiday  weekday  workingday  weathersit\n",
      "1       1   0     1   1        0        6           0           1\n",
      "2       1   0     1   2        0        6           0           1\n",
      "3       1   0     1   3        0        6           0           1\n",
      "4       1   0     1   4        0        6           0           1\n",
      "5       1   0     1   5        0        6           0           2\n"
     ]
    }
   ],
   "source": [
    "# This is the one-hot encoding for categorical data\n",
    "from sklearn.preprocessing import OneHotEncoder\n",
    "enc = OneHotEncoder()\n",
    "enc.fit(cat_data)\n",
    "enc.transform(cat_data)\n",
    "'''\n",
    "# Apply transform to fix date issue\n",
    "import datetime\n",
    "def fix_date(date):\n",
    "    d = date.strip().split('-')\n",
    "    dt = datetime.datetime(int(d[0]),int(d[1]),int(d[2]))\n",
    "    # Note I ignore timezones and the like and just let python default to whatever as it is a simple linear shift.\n",
    "    return dt.timestamp()\n",
    "data['dteday'] = data['dteday'].apply(fix_date)\n",
    "print(data.head())\n",
    "'''\n",
    "print(cat_data.head())"
   ]
  },
  {
   "cell_type": "markdown",
   "metadata": {},
   "source": [
    "# Numerical Regression"
   ]
  },
  {
   "cell_type": "markdown",
   "metadata": {},
   "source": [
    "# Linear Regression\n",
    "Methods\n",
    "    - Least Squares (L2)\n",
    "    - Lasso (L1)\n",
    "    - Ridge"
   ]
  },
  {
   "cell_type": "code",
   "execution_count": 7,
   "metadata": {},
   "outputs": [],
   "source": [
    "from sklearn import model_selection\n",
    "from sklearn import linear_model"
   ]
  },
  {
   "cell_type": "code",
   "execution_count": 42,
   "metadata": {},
   "outputs": [],
   "source": [
    "# Least Squares\n",
    "def linear_reg(x_train, x_test, y_train, y_test):\n",
    "    print(x_train.shape,x_test.shape,y_train.shape,y_test.shape)\n",
    "    # y_train.to_frame()\n",
    "    # y_test.to_frame()\n",
    "    # y_train.reshape((y_train.shape[0],1))\n",
    "    # y_test.reshape((y_test.shape[0],1))\n",
    "    # print(x_train.shape,x_test.shape,y_train.shape,y_test.shape)\n",
    "    if(x_test.shape[0] == 179):\n",
    "        print(x_test,y_test)\n",
    "    reg = linear_model.LinearRegression()\n",
    "    reg.fit(x_train, np.array(y_train))\n",
    "    pred = reg.predict(x_test)\n",
    "    # return reg.score(x_test, y_test)\n",
    "    return sk.metrics.mean_squared_error(np.array(y_test),pred)"
   ]
  },
  {
   "cell_type": "code",
   "execution_count": null,
   "metadata": {},
   "outputs": [],
   "source": [
    "# Ridge\n",
    "def ridge_reg(alpha, x_train, x_test, y_train, y_test):\n",
    "    reg = linear_model.Ridge(alpha=alpha)\n",
    "    reg.fit(x_train, y_train)\n",
    "    pred = reg.predict(x_test, y_test)\n",
    "    return sk.metrics.mean_squared_error(np.array(y_test),pred)"
   ]
  },
  {
   "cell_type": "code",
   "execution_count": null,
   "metadata": {},
   "outputs": [],
   "source": [
    "# Lasso\n",
    "def lasso_reg(alpha, x_train, x_test, y_train, y_test):\n",
    "    reg = linear_model.Lasso(alpha=alpha)\n",
    "    reg.fit(x_train, y_train)\n",
    "    pred = reg.predict(x_test, y_test)\n",
    "    return sk.metrics.accuracy_score(y_test,pred)"
   ]
  },
  {
   "cell_type": "code",
   "execution_count": 43,
   "metadata": {},
   "outputs": [
    {
     "name": "stdout",
     "output_type": "stream",
     "text": [
      "Train start: 184\n",
      "Test start: 185\n",
      "Test end: 366\n",
      "(184, 16) (181, 16) (184,) (181,)\n",
      "(184, 16) (181, 16) (184,) (181,)\n",
      "(184, 16) (181, 16) (184,) (181,)\n",
      "Average MSE for predicting total count is: 3847479.8666982874\n",
      "Average MSE for predicting casual count is: 324202.8202539991\n",
      "Average MSE for predicting registered count is: 2192455.581378364\n",
      "\n",
      "Train start: 366\n",
      "Test start: 367\n",
      "Test end: 548\n",
      "(366, 16) (181, 16) (366,) (181,)\n",
      "(366, 16) (181, 16) (366,) (181,)\n",
      "(366, 16) (181, 16) (366,) (181,)\n",
      "Average MSE for predicting total count is: 2803619.3685509386\n",
      "Average MSE for predicting casual count is: 338576.09624416253\n",
      "Average MSE for predicting registered count is: 1514429.2864676523\n",
      "\n",
      "Train start: 548\n",
      "Test start: 549\n",
      "Test end: 730\n",
      "(548, 16) (179, 16) (548,) (181,)\n",
      "     instant        dteday  season  yr  mnth  holiday  weekday  workingday  \\\n",
      "550      551  1.341378e+09       3   1     7        1        3           0   \n",
      "551      552  1.341464e+09       3   1     7        0        4           1   \n",
      "552      553  1.341551e+09       3   1     7        0        5           1   \n",
      "553      554  1.341637e+09       3   1     7        0        6           0   \n",
      "554      555  1.341724e+09       3   1     7        0        0           0   \n",
      "555      556  1.341810e+09       3   1     7        0        1           1   \n",
      "556      557  1.341896e+09       3   1     7        0        2           1   \n",
      "557      558  1.341983e+09       3   1     7        0        3           1   \n",
      "558      559  1.342069e+09       3   1     7        0        4           1   \n",
      "559      560  1.342156e+09       3   1     7        0        5           1   \n",
      "560      561  1.342242e+09       3   1     7        0        6           0   \n",
      "561      562  1.342328e+09       3   1     7        0        0           0   \n",
      "562      563  1.342415e+09       3   1     7        0        1           1   \n",
      "563      564  1.342501e+09       3   1     7        0        2           1   \n",
      "564      565  1.342588e+09       3   1     7        0        3           1   \n",
      "565      566  1.342674e+09       3   1     7        0        4           1   \n",
      "566      567  1.342760e+09       3   1     7        0        5           1   \n",
      "567      568  1.342847e+09       3   1     7        0        6           0   \n",
      "568      569  1.342933e+09       3   1     7        0        0           0   \n",
      "569      570  1.343020e+09       3   1     7        0        1           1   \n",
      "570      571  1.343106e+09       3   1     7        0        2           1   \n",
      "571      572  1.343192e+09       3   1     7        0        3           1   \n",
      "572      573  1.343279e+09       3   1     7        0        4           1   \n",
      "573      574  1.343365e+09       3   1     7        0        5           1   \n",
      "574      575  1.343452e+09       3   1     7        0        6           0   \n",
      "575      576  1.343538e+09       3   1     7        0        0           0   \n",
      "576      577  1.343624e+09       3   1     7        0        1           1   \n",
      "577      578  1.343711e+09       3   1     7        0        2           1   \n",
      "578      579  1.343797e+09       3   1     8        0        3           1   \n",
      "579      580  1.343884e+09       3   1     8        0        4           1   \n",
      "..       ...           ...     ...  ..   ...      ...      ...         ...   \n",
      "699      700  1.354255e+09       4   1    11        0        5           1   \n",
      "700      701  1.354342e+09       4   1    12        0        6           0   \n",
      "701      702  1.354428e+09       4   1    12        0        0           0   \n",
      "702      703  1.354514e+09       4   1    12        0        1           1   \n",
      "703      704  1.354601e+09       4   1    12        0        2           1   \n",
      "704      705  1.354687e+09       4   1    12        0        3           1   \n",
      "705      706  1.354774e+09       4   1    12        0        4           1   \n",
      "706      707  1.354860e+09       4   1    12        0        5           1   \n",
      "707      708  1.354946e+09       4   1    12        0        6           0   \n",
      "708      709  1.355033e+09       4   1    12        0        0           0   \n",
      "709      710  1.355119e+09       4   1    12        0        1           1   \n",
      "710      711  1.355206e+09       4   1    12        0        2           1   \n",
      "711      712  1.355292e+09       4   1    12        0        3           1   \n",
      "712      713  1.355378e+09       4   1    12        0        4           1   \n",
      "713      714  1.355465e+09       4   1    12        0        5           1   \n",
      "714      715  1.355551e+09       4   1    12        0        6           0   \n",
      "715      716  1.355638e+09       4   1    12        0        0           0   \n",
      "716      717  1.355724e+09       4   1    12        0        1           1   \n",
      "717      718  1.355810e+09       4   1    12        0        2           1   \n",
      "718      719  1.355897e+09       4   1    12        0        3           1   \n",
      "719      720  1.355983e+09       4   1    12        0        4           1   \n",
      "720      721  1.356070e+09       1   1    12        0        5           1   \n",
      "721      722  1.356156e+09       1   1    12        0        6           0   \n",
      "722      723  1.356242e+09       1   1    12        0        0           0   \n",
      "723      724  1.356329e+09       1   1    12        0        1           1   \n",
      "724      725  1.356415e+09       1   1    12        1        2           0   \n",
      "725      726  1.356502e+09       1   1    12        0        3           1   \n",
      "726      727  1.356588e+09       1   1    12        0        4           1   \n",
      "727      728  1.356674e+09       1   1    12        0        5           1   \n",
      "728      729  1.356761e+09       1   1    12        0        6           0   \n",
      "\n",
      "     weathersit      temp     atemp       hum  windspeed  casual  registered  \\\n",
      "550           1  0.789167  0.732337  0.538750   0.134950    2562        4841   \n",
      "551           1  0.827500  0.761367  0.457917   0.194029    1405        4836   \n",
      "552           1  0.828333  0.752533  0.450833   0.146142    1366        4841   \n",
      "553           1  0.861667  0.804913  0.492083   0.163554    1448        3392   \n",
      "554           1  0.822500  0.790396  0.573750   0.125629    1203        3469   \n",
      "555           2  0.710833  0.654054  0.683333   0.180975     998        5571   \n",
      "556           2  0.720833  0.664796  0.667500   0.151737     954        5336   \n",
      "557           1  0.716667  0.650271  0.633333   0.151733     975        6289   \n",
      "558           1  0.715833  0.654683  0.529583   0.146775    1032        6414   \n",
      "559           2  0.731667  0.667933  0.485833   0.080850    1511        5988   \n",
      "560           2  0.703333  0.666042  0.699167   0.143679    2355        4614   \n",
      "561           1  0.745833  0.705196  0.717917   0.166667    1920        4111   \n",
      "562           1  0.763333  0.724125  0.645000   0.164187    1088        5742   \n",
      "563           1  0.818333  0.755683  0.505833   0.114429     921        5865   \n",
      "564           1  0.793333  0.745583  0.577083   0.137442     799        4914   \n",
      "565           1  0.770000  0.714642  0.600417   0.165429     888        5703   \n",
      "566           2  0.665833  0.613025  0.844167   0.208967     747        5123   \n",
      "567           3  0.595833  0.549912  0.865417   0.213300    1264        3195   \n",
      "568           2  0.667500  0.623125  0.762500   0.093921    2544        4866   \n",
      "569           1  0.741667  0.690017  0.694167   0.138683    1135        5831   \n",
      "570           1  0.750833  0.706450  0.655000   0.211454    1140        6452   \n",
      "571           1  0.724167  0.654054  0.450000   0.164800    1383        6790   \n",
      "572           1  0.776667  0.739263  0.596667   0.284813    1036        5825   \n",
      "573           1  0.781667  0.734217  0.594583   0.152992    1259        5645   \n",
      "574           1  0.755833  0.697604  0.613333   0.157350    2234        4451   \n",
      "575           1  0.721667  0.667933  0.623750   0.170396    2153        4444   \n",
      "576           1  0.730833  0.684987  0.668750   0.153617    1040        6065   \n",
      "577           1  0.713333  0.662896  0.704167   0.165425     968        6248   \n",
      "578           1  0.717500  0.667308  0.677500   0.141179    1074        6506   \n",
      "579           1  0.752500  0.707088  0.659583   0.129354     983        6278   \n",
      "..          ...       ...       ...       ...        ...     ...         ...   \n",
      "699           1  0.298333  0.323867  0.649583   0.058471     362        5306   \n",
      "700           2  0.298333  0.316904  0.806667   0.059704     951        4240   \n",
      "701           2  0.347500  0.359208  0.823333   0.124379     892        3757   \n",
      "702           1  0.452500  0.455796  0.767500   0.082721     555        5679   \n",
      "703           1  0.475833  0.469054  0.733750   0.174129     551        6055   \n",
      "704           1  0.438333  0.428012  0.485000   0.324021     331        5398   \n",
      "705           1  0.255833  0.258204  0.508750   0.174754     340        5035   \n",
      "706           2  0.320833  0.321958  0.764167   0.130600     349        4659   \n",
      "707           2  0.381667  0.389508  0.911250   0.101379    1153        4429   \n",
      "708           2  0.384167  0.390146  0.905417   0.157975     441        2787   \n",
      "709           2  0.435833  0.435575  0.925000   0.190308     329        4841   \n",
      "710           2  0.353333  0.338363  0.596667   0.296037     282        5219   \n",
      "711           2  0.297500  0.297338  0.538333   0.162937     310        5009   \n",
      "712           1  0.295833  0.294188  0.485833   0.174129     425        5107   \n",
      "713           1  0.281667  0.294192  0.642917   0.131229     429        5182   \n",
      "714           1  0.324167  0.338383  0.650417   0.106350     767        4280   \n",
      "715           2  0.362500  0.369938  0.838750   0.100742     538        3248   \n",
      "716           2  0.393333  0.401500  0.907083   0.098258     212        4373   \n",
      "717           1  0.410833  0.409708  0.666250   0.221404     433        5124   \n",
      "718           1  0.332500  0.342162  0.625417   0.184092     333        4934   \n",
      "719           2  0.330000  0.335217  0.667917   0.132463     314        3814   \n",
      "720           2  0.326667  0.301767  0.556667   0.374383     221        3402   \n",
      "721           1  0.265833  0.236113  0.441250   0.407346     205        1544   \n",
      "722           1  0.245833  0.259471  0.515417   0.133083     408        1379   \n",
      "723           2  0.231304  0.258900  0.791304   0.077230     174         746   \n",
      "724           2  0.291304  0.294465  0.734783   0.168726     440         573   \n",
      "725           3  0.243333  0.220333  0.823333   0.316546       9         432   \n",
      "726           2  0.254167  0.226642  0.652917   0.350133     247        1867   \n",
      "727           2  0.253333  0.255046  0.590000   0.155471     644        2451   \n",
      "728           2  0.253333  0.242400  0.752917   0.124383     159        1182   \n",
      "\n",
      "      cnt  \n",
      "550  7403  \n",
      "551  6241  \n",
      "552  6207  \n",
      "553  4840  \n",
      "554  4672  \n",
      "555  6569  \n",
      "556  6290  \n",
      "557  7264  \n",
      "558  7446  \n",
      "559  7499  \n",
      "560  6969  \n",
      "561  6031  \n",
      "562  6830  \n",
      "563  6786  \n",
      "564  5713  \n",
      "565  6591  \n",
      "566  5870  \n",
      "567  4459  \n",
      "568  7410  \n",
      "569  6966  \n",
      "570  7592  \n",
      "571  8173  \n",
      "572  6861  \n",
      "573  6904  \n",
      "574  6685  \n",
      "575  6597  \n",
      "576  7105  \n",
      "577  7216  \n",
      "578  7580  \n",
      "579  7261  \n",
      "..    ...  \n",
      "699  5668  \n",
      "700  5191  \n",
      "701  4649  \n",
      "702  6234  \n",
      "703  6606  \n",
      "704  5729  \n",
      "705  5375  \n",
      "706  5008  \n",
      "707  5582  \n",
      "708  3228  \n",
      "709  5170  \n",
      "710  5501  \n",
      "711  5319  \n",
      "712  5532  \n",
      "713  5611  \n",
      "714  5047  \n",
      "715  3786  \n",
      "716  4585  \n",
      "717  5557  \n",
      "718  5267  \n",
      "719  4128  \n",
      "720  3623  \n",
      "721  1749  \n",
      "722  1787  \n",
      "723   920  \n",
      "724  1013  \n",
      "725   441  \n",
      "726  2114  \n",
      "727  3095  \n",
      "728  1341  \n",
      "\n",
      "[179 rows x 16 columns] 549    6660\n",
      "550    7403\n",
      "551    6241\n",
      "552    6207\n",
      "553    4840\n",
      "554    4672\n",
      "555    6569\n",
      "556    6290\n",
      "557    7264\n",
      "558    7446\n",
      "559    7499\n",
      "560    6969\n",
      "561    6031\n",
      "562    6830\n",
      "563    6786\n",
      "564    5713\n",
      "565    6591\n",
      "566    5870\n",
      "567    4459\n",
      "568    7410\n",
      "569    6966\n",
      "570    7592\n",
      "571    8173\n",
      "572    6861\n",
      "573    6904\n",
      "574    6685\n",
      "575    6597\n",
      "576    7105\n",
      "577    7216\n",
      "578    7580\n",
      "       ... \n",
      "700    5191\n",
      "701    4649\n",
      "702    6234\n",
      "703    6606\n",
      "704    5729\n",
      "705    5375\n",
      "706    5008\n",
      "707    5582\n",
      "708    3228\n",
      "709    5170\n",
      "710    5501\n",
      "711    5319\n",
      "712    5532\n",
      "713    5611\n",
      "714    5047\n",
      "715    3786\n",
      "716    4585\n",
      "717    5557\n",
      "718    5267\n",
      "719    4128\n",
      "720    3623\n",
      "721    1749\n",
      "722    1787\n",
      "723     920\n",
      "724    1013\n",
      "725     441\n",
      "726    2114\n",
      "727    3095\n",
      "728    1341\n",
      "729    1796\n",
      "Name: cnt, Length: 181, dtype: int64\n"
     ]
    },
    {
     "ename": "ValueError",
     "evalue": "Found input variables with inconsistent numbers of samples: [181, 179]",
     "output_type": "error",
     "traceback": [
      "\u001b[0;31m---------------------------------------------------------------------------\u001b[0m",
      "\u001b[0;31mValueError\u001b[0m                                Traceback (most recent call last)",
      "\u001b[0;32m<ipython-input-43-a2b8ace8ff4a>\u001b[0m in \u001b[0;36m<module>\u001b[0;34m()\u001b[0m\n\u001b[1;32m      9\u001b[0m     \u001b[0mcnt_cas_train\u001b[0m\u001b[0;34m,\u001b[0m \u001b[0mcnt_cas_test\u001b[0m \u001b[0;34m=\u001b[0m \u001b[0mcount_casual\u001b[0m\u001b[0;34m[\u001b[0m\u001b[0mtrain_i\u001b[0m\u001b[0;34m[\u001b[0m\u001b[0;36m0\u001b[0m\u001b[0;34m]\u001b[0m\u001b[0;34m:\u001b[0m\u001b[0mtrain_i\u001b[0m\u001b[0;34m[\u001b[0m\u001b[0;34m-\u001b[0m\u001b[0;36m1\u001b[0m\u001b[0;34m]\u001b[0m\u001b[0;34m]\u001b[0m\u001b[0;34m,\u001b[0m \u001b[0mcount_casual\u001b[0m\u001b[0;34m[\u001b[0m\u001b[0mtest_i\u001b[0m\u001b[0;34m[\u001b[0m\u001b[0;36m0\u001b[0m\u001b[0;34m]\u001b[0m\u001b[0;34m:\u001b[0m\u001b[0mtest_i\u001b[0m\u001b[0;34m[\u001b[0m\u001b[0;34m-\u001b[0m\u001b[0;36m1\u001b[0m\u001b[0;34m]\u001b[0m\u001b[0;34m]\u001b[0m\u001b[0;34m\u001b[0m\u001b[0m\n\u001b[1;32m     10\u001b[0m     \u001b[0mcnt_reg_train\u001b[0m\u001b[0;34m,\u001b[0m \u001b[0mcnt_reg_test\u001b[0m \u001b[0;34m=\u001b[0m \u001b[0mcount_registered\u001b[0m\u001b[0;34m[\u001b[0m\u001b[0mtrain_i\u001b[0m\u001b[0;34m[\u001b[0m\u001b[0;36m0\u001b[0m\u001b[0;34m]\u001b[0m\u001b[0;34m:\u001b[0m\u001b[0mtrain_i\u001b[0m\u001b[0;34m[\u001b[0m\u001b[0;34m-\u001b[0m\u001b[0;36m1\u001b[0m\u001b[0;34m]\u001b[0m\u001b[0;34m]\u001b[0m\u001b[0;34m,\u001b[0m \u001b[0mcount_registered\u001b[0m\u001b[0;34m[\u001b[0m\u001b[0mtest_i\u001b[0m\u001b[0;34m[\u001b[0m\u001b[0;36m0\u001b[0m\u001b[0;34m]\u001b[0m\u001b[0;34m:\u001b[0m\u001b[0mtest_i\u001b[0m\u001b[0;34m[\u001b[0m\u001b[0;34m-\u001b[0m\u001b[0;36m1\u001b[0m\u001b[0;34m]\u001b[0m\u001b[0;34m]\u001b[0m\u001b[0;34m\u001b[0m\u001b[0m\n\u001b[0;32m---> 11\u001b[0;31m     \u001b[0mcount_acc\u001b[0m \u001b[0;34m=\u001b[0m \u001b[0mlinear_reg\u001b[0m\u001b[0;34m(\u001b[0m\u001b[0mx_train\u001b[0m\u001b[0;34m,\u001b[0m \u001b[0mx_test\u001b[0m\u001b[0;34m,\u001b[0m \u001b[0mcount_train\u001b[0m\u001b[0;34m,\u001b[0m \u001b[0mcount_test\u001b[0m\u001b[0;34m)\u001b[0m\u001b[0;34m\u001b[0m\u001b[0m\n\u001b[0m\u001b[1;32m     12\u001b[0m     \u001b[0mcnt_cas_acc\u001b[0m \u001b[0;34m=\u001b[0m \u001b[0mlinear_reg\u001b[0m\u001b[0;34m(\u001b[0m\u001b[0mx_train\u001b[0m\u001b[0;34m,\u001b[0m \u001b[0mx_test\u001b[0m\u001b[0;34m,\u001b[0m \u001b[0mcnt_cas_train\u001b[0m\u001b[0;34m,\u001b[0m \u001b[0mcnt_cas_test\u001b[0m\u001b[0;34m)\u001b[0m\u001b[0;34m\u001b[0m\u001b[0m\n\u001b[1;32m     13\u001b[0m     \u001b[0mcnt_reg_acc\u001b[0m \u001b[0;34m=\u001b[0m \u001b[0mlinear_reg\u001b[0m\u001b[0;34m(\u001b[0m\u001b[0mx_train\u001b[0m\u001b[0;34m,\u001b[0m \u001b[0mx_test\u001b[0m\u001b[0;34m,\u001b[0m \u001b[0mcnt_reg_train\u001b[0m\u001b[0;34m,\u001b[0m \u001b[0mcnt_reg_test\u001b[0m\u001b[0;34m)\u001b[0m\u001b[0;34m\u001b[0m\u001b[0m\n",
      "\u001b[0;32m<ipython-input-42-f1bfdb2202a7>\u001b[0m in \u001b[0;36mlinear_reg\u001b[0;34m(x_train, x_test, y_train, y_test)\u001b[0m\n\u001b[1;32m     13\u001b[0m     \u001b[0mpred\u001b[0m \u001b[0;34m=\u001b[0m \u001b[0mreg\u001b[0m\u001b[0;34m.\u001b[0m\u001b[0mpredict\u001b[0m\u001b[0;34m(\u001b[0m\u001b[0mx_test\u001b[0m\u001b[0;34m)\u001b[0m\u001b[0;34m\u001b[0m\u001b[0m\n\u001b[1;32m     14\u001b[0m     \u001b[0;31m# return reg.score(x_test, y_test)\u001b[0m\u001b[0;34m\u001b[0m\u001b[0;34m\u001b[0m\u001b[0m\n\u001b[0;32m---> 15\u001b[0;31m     \u001b[0;32mreturn\u001b[0m \u001b[0msk\u001b[0m\u001b[0;34m.\u001b[0m\u001b[0mmetrics\u001b[0m\u001b[0;34m.\u001b[0m\u001b[0mmean_squared_error\u001b[0m\u001b[0;34m(\u001b[0m\u001b[0mnp\u001b[0m\u001b[0;34m.\u001b[0m\u001b[0marray\u001b[0m\u001b[0;34m(\u001b[0m\u001b[0my_test\u001b[0m\u001b[0;34m)\u001b[0m\u001b[0;34m,\u001b[0m\u001b[0mpred\u001b[0m\u001b[0;34m)\u001b[0m\u001b[0;34m\u001b[0m\u001b[0m\n\u001b[0m",
      "\u001b[0;32m~/anaconda3/lib/python3.6/site-packages/sklearn/metrics/regression.py\u001b[0m in \u001b[0;36mmean_squared_error\u001b[0;34m(y_true, y_pred, sample_weight, multioutput)\u001b[0m\n\u001b[1;32m    236\u001b[0m     \"\"\"\n\u001b[1;32m    237\u001b[0m     y_type, y_true, y_pred, multioutput = _check_reg_targets(\n\u001b[0;32m--> 238\u001b[0;31m         y_true, y_pred, multioutput)\n\u001b[0m\u001b[1;32m    239\u001b[0m     output_errors = np.average((y_true - y_pred) ** 2, axis=0,\n\u001b[1;32m    240\u001b[0m                                weights=sample_weight)\n",
      "\u001b[0;32m~/anaconda3/lib/python3.6/site-packages/sklearn/metrics/regression.py\u001b[0m in \u001b[0;36m_check_reg_targets\u001b[0;34m(y_true, y_pred, multioutput)\u001b[0m\n\u001b[1;32m     73\u001b[0m \u001b[0;34m\u001b[0m\u001b[0m\n\u001b[1;32m     74\u001b[0m     \"\"\"\n\u001b[0;32m---> 75\u001b[0;31m     \u001b[0mcheck_consistent_length\u001b[0m\u001b[0;34m(\u001b[0m\u001b[0my_true\u001b[0m\u001b[0;34m,\u001b[0m \u001b[0my_pred\u001b[0m\u001b[0;34m)\u001b[0m\u001b[0;34m\u001b[0m\u001b[0m\n\u001b[0m\u001b[1;32m     76\u001b[0m     \u001b[0my_true\u001b[0m \u001b[0;34m=\u001b[0m \u001b[0mcheck_array\u001b[0m\u001b[0;34m(\u001b[0m\u001b[0my_true\u001b[0m\u001b[0;34m,\u001b[0m \u001b[0mensure_2d\u001b[0m\u001b[0;34m=\u001b[0m\u001b[0;32mFalse\u001b[0m\u001b[0;34m)\u001b[0m\u001b[0;34m\u001b[0m\u001b[0m\n\u001b[1;32m     77\u001b[0m     \u001b[0my_pred\u001b[0m \u001b[0;34m=\u001b[0m \u001b[0mcheck_array\u001b[0m\u001b[0;34m(\u001b[0m\u001b[0my_pred\u001b[0m\u001b[0;34m,\u001b[0m \u001b[0mensure_2d\u001b[0m\u001b[0;34m=\u001b[0m\u001b[0;32mFalse\u001b[0m\u001b[0;34m)\u001b[0m\u001b[0;34m\u001b[0m\u001b[0m\n",
      "\u001b[0;32m~/anaconda3/lib/python3.6/site-packages/sklearn/utils/validation.py\u001b[0m in \u001b[0;36mcheck_consistent_length\u001b[0;34m(*arrays)\u001b[0m\n\u001b[1;32m    202\u001b[0m     \u001b[0;32mif\u001b[0m \u001b[0mlen\u001b[0m\u001b[0;34m(\u001b[0m\u001b[0muniques\u001b[0m\u001b[0;34m)\u001b[0m \u001b[0;34m>\u001b[0m \u001b[0;36m1\u001b[0m\u001b[0;34m:\u001b[0m\u001b[0;34m\u001b[0m\u001b[0m\n\u001b[1;32m    203\u001b[0m         raise ValueError(\"Found input variables with inconsistent numbers of\"\n\u001b[0;32m--> 204\u001b[0;31m                          \" samples: %r\" % [int(l) for l in lengths])\n\u001b[0m\u001b[1;32m    205\u001b[0m \u001b[0;34m\u001b[0m\u001b[0m\n\u001b[1;32m    206\u001b[0m \u001b[0;34m\u001b[0m\u001b[0m\n",
      "\u001b[0;31mValueError\u001b[0m: Found input variables with inconsistent numbers of samples: [181, 179]"
     ]
    }
   ],
   "source": [
    "cv = model_selection.TimeSeriesSplit()\n",
    "cnt_list = []\n",
    "cnt_cas_list = []\n",
    "cnt_reg_list = []\n",
    "for train_i, test_i in cv.split(df):\n",
    "    print(\"Train start: {}\\nTest start: {}\\nTest end: {}\".format(train_i[-1], test_i[0], test_i[-1]))\n",
    "    x_train, x_test = num_data[train_i[0]:train_i[-1]], num_data[test_i[0]:test_i[-1]]\n",
    "    count_train, count_test = count[train_i[0]:train_i[-1]], count[test_i[0]:test_i[-1]]\n",
    "    cnt_cas_train, cnt_cas_test = count_casual[train_i[0]:train_i[-1]], count_casual[test_i[0]:test_i[-1]]\n",
    "    cnt_reg_train, cnt_reg_test = count_registered[train_i[0]:train_i[-1]], count_registered[test_i[0]:test_i[-1]]\n",
    "    count_acc = linear_reg(x_train, x_test, count_train, count_test)\n",
    "    cnt_cas_acc = linear_reg(x_train, x_test, cnt_cas_train, cnt_cas_test)\n",
    "    cnt_reg_acc = linear_reg(x_train, x_test, cnt_reg_train, cnt_reg_test)\n",
    "    cnt_list.append(count_acc)\n",
    "    cnt_cas_list.append(cnt_cas_acc)\n",
    "    cnt_reg_list.append(cnt_reg_acc)\n",
    "    print(\"Average MSE for predicting total count is: {}\".format(np.mean(cnt_list)))\n",
    "    print(\"Average MSE for predicting casual count is: {}\".format(np.mean(cnt_cas_list)))\n",
    "    print(\"Average MSE for predicting registered count is: {}\".format(np.mean(cnt_reg_list)))\n",
    "    print()"
   ]
  },
  {
   "cell_type": "markdown",
   "metadata": {},
   "source": [
    "# Linear Regression with Basis Functions"
   ]
  },
  {
   "cell_type": "code",
   "execution_count": null,
   "metadata": {},
   "outputs": [],
   "source": [
    "from sklearn.preprocessing import PolynomialFeatures\n",
    "poly = PolynomialFeatures(x=2)\n",
    "\n",
    "def polynomial_reg(x_train, x_test, y_train, y_test):\n",
    "    # Iterate over powers for polynomial transform. "
   ]
  },
  {
   "cell_type": "markdown",
   "metadata": {},
   "source": [
    "# Categorical Regression"
   ]
  },
  {
   "cell_type": "code",
   "execution_count": null,
   "metadata": {},
   "outputs": [],
   "source": [
    "# Log\n",
    "def log_reg(x_train, x_test, y_train, y_test):\n",
    "    reg = linear_model.LogisticRegression()\n",
    "    reg.fit(x_train, y_train)\n",
    "    pred = reg.predict(x_test, y_test)\n",
    "    return sk.metrics.accuracy_score(y_test,pred)"
   ]
  },
  {
   "cell_type": "markdown",
   "metadata": {},
   "source": [
    "# Neural Nets\n",
    "With the dataset it is not possible to use Neural Networks (Thet choice in this case would be LSTMs) due to lack of data. "
   ]
  },
  {
   "cell_type": "markdown",
   "metadata": {},
   "source": [
    "# Kernel Density Estimation\n",
    "Idea: Use kernel density estimators in a piecewise fashion to create a probability distribution for some time before the current"
   ]
  }
 ],
 "metadata": {
  "kernelspec": {
   "display_name": "Python 3",
   "language": "python",
   "name": "python3"
  },
  "language_info": {
   "codemirror_mode": {
    "name": "ipython",
    "version": 3
   },
   "file_extension": ".py",
   "mimetype": "text/x-python",
   "name": "python",
   "nbconvert_exporter": "python",
   "pygments_lexer": "ipython3",
   "version": "3.6.5"
  }
 },
 "nbformat": 4,
 "nbformat_minor": 2
}
